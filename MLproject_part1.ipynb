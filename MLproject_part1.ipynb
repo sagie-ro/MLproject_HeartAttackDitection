{
  "nbformat": 4,
  "nbformat_minor": 0,
  "metadata": {
    "colab": {
      "name": "Untitled0.ipynb",
      "provenance": [],
      "authorship_tag": "ABX9TyPPjqdocMfeIDr0NIoM+Gcc",
      "include_colab_link": true
    },
    "kernelspec": {
      "name": "python3",
      "display_name": "Python 3"
    },
    "language_info": {
      "name": "python"
    }
  },
  "cells": [
    {
      "cell_type": "markdown",
      "metadata": {
        "id": "view-in-github",
        "colab_type": "text"
      },
      "source": [
        "<a href=\"https://colab.research.google.com/github/sagie-ro/MLproject_HeartAttackDitection/blob/main/MLproject_part1.ipynb\" target=\"_parent\"><img src=\"https://colab.research.google.com/assets/colab-badge.svg\" alt=\"Open In Colab\"/></a>"
      ]
    },
    {
      "cell_type": "code",
      "execution_count": null,
      "metadata": {
        "id": "m8j6PecGzFAN"
      },
      "outputs": [],
      "source": [
        "import numpy as np\n",
        "import pandas as pd\n",
        "\n",
        "\n",
        "# load to pd dataframe\n",
        "df = pd.read_csv(\"HeartAttack_Xy_train.xlsx\", header=0, encoding='latin-1')\n",
        "# separate between categorical variables and continuous variables\n",
        "df_cont = df.drop(['id', 'gender', 'cp', 'fbs', 'restecg', 'exang', 'slope', 'ca', 'thal', 'y'], 1)  # continuous variables only\n",
        "df_cat = df.drop(['id', 'age', 'trestbps', 'chol', 'thalach', 'oldpeak'], 1)  # categorial variables only\n",
        "# get some information about data\n",
        "df_cont.describe()\n",
        "# get nrow parameter\n",
        "nrow = len(df)\n"
      ]
    }
  ]
}